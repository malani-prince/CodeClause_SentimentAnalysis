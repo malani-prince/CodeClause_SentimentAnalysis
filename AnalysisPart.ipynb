{
 "cells": [
  {
   "cell_type": "markdown",
   "id": "6cdfac01-6f2e-4bbf-8809-430b8cdb4fc3",
   "metadata": {},
   "source": [
    "<h1>Project - 2</h1> \n",
    "<h2><u>Aim : Sentiment Analysis</u></h2>\n",
    "<h3><u> D A T A S C I E N C E &nbsp I N T E R N S H I P</u></h3> \n",
    "<h3><u> Basic ANalysis About the DataSet </u></h3>"
   ]
  },
  {
   "cell_type": "markdown",
   "id": "b89cff57-82e6-44c6-999f-6293c67f0052",
   "metadata": {},
   "source": [
    "<h3><u>That File Contain UTF-8 now convert into ByteCode</u></h3>"
   ]
  },
  {
   "cell_type": "code",
   "execution_count": 3,
   "id": "67c69b33-1701-4782-8d6a-9f7f22263d5b",
   "metadata": {},
   "outputs": [],
   "source": [
    "import chardet\n",
    "import pandas as pd\n",
    "\n",
    "with open('test.csv' , 'rb') as f:\n",
    "    result= chardet.detect(f.read())\n",
    "data  = pd.read_csv('test.csv' , encoding=result['encoding'])"
   ]
  },
  {
   "cell_type": "code",
   "execution_count": 4,
   "id": "661562d8-15ab-4dcf-877b-0c2f23c51b32",
   "metadata": {},
   "outputs": [
    {
     "data": {
      "text/html": [
       "<div>\n",
       "<style scoped>\n",
       "    .dataframe tbody tr th:only-of-type {\n",
       "        vertical-align: middle;\n",
       "    }\n",
       "\n",
       "    .dataframe tbody tr th {\n",
       "        vertical-align: top;\n",
       "    }\n",
       "\n",
       "    .dataframe thead th {\n",
       "        text-align: right;\n",
       "    }\n",
       "</style>\n",
       "<table border=\"1\" class=\"dataframe\">\n",
       "  <thead>\n",
       "    <tr style=\"text-align: right;\">\n",
       "      <th></th>\n",
       "      <th>textID</th>\n",
       "      <th>text</th>\n",
       "      <th>sentiment</th>\n",
       "      <th>Time of Tweet</th>\n",
       "      <th>Age of User</th>\n",
       "      <th>Country</th>\n",
       "      <th>Population -2020</th>\n",
       "      <th>Land Area (Km²)</th>\n",
       "      <th>Density (P/Km²)</th>\n",
       "    </tr>\n",
       "  </thead>\n",
       "  <tbody>\n",
       "    <tr>\n",
       "      <th>0</th>\n",
       "      <td>f87dea47db</td>\n",
       "      <td>Last session of the day  http://twitpic.com/67ezh</td>\n",
       "      <td>neutral</td>\n",
       "      <td>morning</td>\n",
       "      <td>0-20</td>\n",
       "      <td>Afghanistan</td>\n",
       "      <td>38928346</td>\n",
       "      <td>652860.0</td>\n",
       "      <td>60</td>\n",
       "    </tr>\n",
       "    <tr>\n",
       "      <th>1</th>\n",
       "      <td>96d74cb729</td>\n",
       "      <td>Shanghai is also really exciting (precisely -...</td>\n",
       "      <td>positive</td>\n",
       "      <td>noon</td>\n",
       "      <td>21-30</td>\n",
       "      <td>Albania</td>\n",
       "      <td>2877797</td>\n",
       "      <td>27400.0</td>\n",
       "      <td>105</td>\n",
       "    </tr>\n",
       "    <tr>\n",
       "      <th>2</th>\n",
       "      <td>eee518ae67</td>\n",
       "      <td>Recession hit Veronique Branquinho, she has to...</td>\n",
       "      <td>negative</td>\n",
       "      <td>night</td>\n",
       "      <td>31-45</td>\n",
       "      <td>Algeria</td>\n",
       "      <td>43851044</td>\n",
       "      <td>2381740.0</td>\n",
       "      <td>18</td>\n",
       "    </tr>\n",
       "  </tbody>\n",
       "</table>\n",
       "</div>"
      ],
      "text/plain": [
       "       textID                                               text sentiment  \\\n",
       "0  f87dea47db  Last session of the day  http://twitpic.com/67ezh   neutral   \n",
       "1  96d74cb729   Shanghai is also really exciting (precisely -...  positive   \n",
       "2  eee518ae67  Recession hit Veronique Branquinho, she has to...  negative   \n",
       "\n",
       "  Time of Tweet Age of User      Country  Population -2020  Land Area (Km²)  \\\n",
       "0       morning        0-20  Afghanistan          38928346         652860.0   \n",
       "1          noon       21-30      Albania           2877797          27400.0   \n",
       "2         night       31-45      Algeria          43851044        2381740.0   \n",
       "\n",
       "   Density (P/Km²)  \n",
       "0               60  \n",
       "1              105  \n",
       "2               18  "
      ]
     },
     "execution_count": 4,
     "metadata": {},
     "output_type": "execute_result"
    }
   ],
   "source": [
    "data.head(3)"
   ]
  },
  {
   "cell_type": "markdown",
   "id": "144c6d30-d265-4670-8181-38c979491edc",
   "metadata": {},
   "source": [
    "<h3><u>Dimension of the our Dataset</u></h3>"
   ]
  },
  {
   "cell_type": "code",
   "execution_count": 5,
   "id": "8b8b8ee9-aa55-4601-83e1-7e6ce0c21b86",
   "metadata": {},
   "outputs": [
    {
     "name": "stdout",
     "output_type": "stream",
     "text": [
      "Total Dimension : --  (3534, 9)\n"
     ]
    }
   ],
   "source": [
    "print(\"Total Dimension : -- \" , data.shape)"
   ]
  },
  {
   "cell_type": "code",
   "execution_count": 6,
   "id": "683d2fea-7bc7-40e3-9669-27abb0c4081b",
   "metadata": {},
   "outputs": [
    {
     "name": "stdout",
     "output_type": "stream",
     "text": [
      "Total Number Of Row's : 3534\n"
     ]
    }
   ],
   "source": [
    "print(f\"Total Number Of Row's : {data.shape[0]}\" )"
   ]
  },
  {
   "cell_type": "code",
   "execution_count": 7,
   "id": "c579e82c-b43b-4178-be48-b4af1458e967",
   "metadata": {},
   "outputs": [
    {
     "name": "stdout",
     "output_type": "stream",
     "text": [
      "Total NUmber Of Column : 9\n"
     ]
    }
   ],
   "source": [
    "print(f\"Total NUmber Of Column : {data.shape[1]}\")"
   ]
  },
  {
   "cell_type": "markdown",
   "id": "b52d6378-abc3-41f7-82d6-7cd01d082b78",
   "metadata": {},
   "source": [
    "<h3><u>Total Value Counts</u></h3>\n",
    "<h4><li>Age group </li></h4>"
   ]
  },
  {
   "cell_type": "code",
   "execution_count": 8,
   "id": "b4cd3250-b348-47f3-ab30-c5b11579b715",
   "metadata": {},
   "outputs": [
    {
     "data": {
      "text/plain": [
       "0-20      590\n",
       "21-30     590\n",
       "31-45     590\n",
       "46-60     588\n",
       "60-70     588\n",
       "70-100    588\n",
       "Name: Age of User, dtype: int64"
      ]
     },
     "execution_count": 8,
     "metadata": {},
     "output_type": "execute_result"
    }
   ],
   "source": [
    "data[\"Age of User\"].value_counts()"
   ]
  },
  {
   "cell_type": "markdown",
   "id": "5bf873e4-0831-458c-8d9b-03dfe75f9116",
   "metadata": {},
   "source": [
    "<h4><li>Country</li></h4>"
   ]
  },
  {
   "cell_type": "code",
   "execution_count": 9,
   "id": "d020af43-38ba-4ca2-889a-1dd7f4166676",
   "metadata": {},
   "outputs": [
    {
     "data": {
      "text/plain": [
       "Afghanistan      20\n",
       "Ecuador          20\n",
       "China            20\n",
       "Colombia         20\n",
       "Comoros          20\n",
       "                 ..\n",
       "Guinea-Bissau    16\n",
       "Guinea           16\n",
       "Guatemala        16\n",
       "Grenada          16\n",
       "Greece           16\n",
       "Name: Country, Length: 195, dtype: int64"
      ]
     },
     "execution_count": 9,
     "metadata": {},
     "output_type": "execute_result"
    }
   ],
   "source": [
    "data[\"Country\"].value_counts()"
   ]
  },
  {
   "cell_type": "markdown",
   "id": "02301e96-e9d0-424d-8ef1-2df772e9413d",
   "metadata": {},
   "source": [
    "<h4><li>Time Of Tweet</li></h4>"
   ]
  },
  {
   "cell_type": "code",
   "execution_count": 10,
   "id": "f3b0f81c-49ef-48a2-8357-c907066ae786",
   "metadata": {},
   "outputs": [
    {
     "data": {
      "text/plain": [
       "morning    1178\n",
       "noon       1178\n",
       "night      1178\n",
       "Name: Time of Tweet, dtype: int64"
      ]
     },
     "execution_count": 11,
     "metadata": {},
     "output_type": "execute_result"
    }
   ],
   "source": [
    "data[\"Time of Tweet\"].value_counts()"
   ]
  }
 ],
 "metadata": {
  "kernelspec": {
   "display_name": "Python 3 (ipykernel)",
   "language": "python",
   "name": "python3"
  },
  "language_info": {
   "codemirror_mode": {
    "name": "ipython",
    "version": 3
   },
   "file_extension": ".py",
   "mimetype": "text/x-python",
   "name": "python",
   "nbconvert_exporter": "python",
   "pygments_lexer": "ipython3",
   "version": "3.10.7"
  }
 },
 "nbformat": 4,
 "nbformat_minor": 5
}
